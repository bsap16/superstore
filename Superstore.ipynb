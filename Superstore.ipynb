{
  "cells": [
    {
      "cell_type": "markdown",
      "metadata": {
        "id": "view-in-github",
        "colab_type": "text"
      },
      "source": [
        "<a href=\"https://colab.research.google.com/github/bsap16/superstore/blob/main/Superstore.ipynb\" target=\"_parent\"><img src=\"https://colab.research.google.com/assets/colab-badge.svg\" alt=\"Open In Colab\"/></a>"
      ]
    },
    {
      "cell_type": "markdown",
      "metadata": {
        "id": "fw99Vp04CN6K"
      },
      "source": [
        "#Superstore"
      ]
    },
    {
      "cell_type": "markdown",
      "metadata": {
        "id": "s4LW05M-DRxB"
      },
      "source": [
        "##Bibliotecas e base de dados"
      ]
    },
    {
      "cell_type": "code",
      "execution_count": 36,
      "metadata": {
        "id": "OUiL7bxGCHke"
      },
      "outputs": [],
      "source": [
        "import pandas as pd\n",
        "import numpy as np\n",
        "import requests\n",
        "from bs4 import BeautifulSoup\n",
        "import sqlite3\n",
        "from sqlalchemy import create_engine\n",
        "from datetime import datetime\n",
        "import matplotlib.pyplot as plt\n",
        "import seaborn as sns\n",
        "from IPython.display import display"
      ]
    },
    {
      "cell_type": "code",
      "execution_count": 2,
      "metadata": {
        "colab": {
          "base_uri": "https://localhost:8080/"
        },
        "id": "66NAzve8CNHK",
        "outputId": "be543008-f73a-4237-ce97-eb2fca293c52"
      },
      "outputs": [
        {
          "output_type": "stream",
          "name": "stdout",
          "text": [
            "Total de dados: 51290\n",
            "category           object\n",
            "city               object\n",
            "country            object\n",
            "customer_ID        object\n",
            "customer_name      object\n",
            "discount          float64\n",
            "market             object\n",
            "unknown             int64\n",
            "order_date         object\n",
            "order_id           object\n",
            "order_priority     object\n",
            "product_id         object\n",
            "product_name       object\n",
            "profit            float64\n",
            "quantity            int64\n",
            "region             object\n",
            "row_id              int64\n",
            "sales               int64\n",
            "segment            object\n",
            "ship_date          object\n",
            "ship_mode          object\n",
            "shipping_cost     float64\n",
            "state              object\n",
            "sub_category       object\n",
            "year                int64\n",
            "market2            object\n",
            "weeknum             int64\n",
            "dtype: object\n"
          ]
        }
      ],
      "source": [
        "df = pd.read_csv('superstore.csv')\n",
        "total_dados = df.shape[0]\n",
        "print(f\"Total de dados: {total_dados}\")\n",
        "print(df.dtypes)"
      ]
    },
    {
      "cell_type": "markdown",
      "metadata": {
        "id": "qLxMf1thDZEj"
      },
      "source": [
        "##Nulos"
      ]
    },
    {
      "cell_type": "code",
      "execution_count": 3,
      "metadata": {
        "colab": {
          "base_uri": "https://localhost:8080/",
          "height": 930
        },
        "id": "mrTAazrP_osL",
        "outputId": "ae68e833-9ab0-4856-f918-79bb34b2a13e"
      },
      "outputs": [
        {
          "output_type": "execute_result",
          "data": {
            "text/plain": [
              "category          0\n",
              "city              0\n",
              "country           0\n",
              "customer_ID       0\n",
              "customer_name     0\n",
              "discount          0\n",
              "market            0\n",
              "unknown           0\n",
              "order_date        0\n",
              "order_id          0\n",
              "order_priority    0\n",
              "product_id        0\n",
              "product_name      0\n",
              "profit            0\n",
              "quantity          0\n",
              "region            0\n",
              "row_id            0\n",
              "sales             0\n",
              "segment           0\n",
              "ship_date         0\n",
              "ship_mode         0\n",
              "shipping_cost     0\n",
              "state             0\n",
              "sub_category      0\n",
              "year              0\n",
              "market2           0\n",
              "weeknum           0\n",
              "dtype: int64"
            ],
            "text/html": [
              "<div>\n",
              "<style scoped>\n",
              "    .dataframe tbody tr th:only-of-type {\n",
              "        vertical-align: middle;\n",
              "    }\n",
              "\n",
              "    .dataframe tbody tr th {\n",
              "        vertical-align: top;\n",
              "    }\n",
              "\n",
              "    .dataframe thead th {\n",
              "        text-align: right;\n",
              "    }\n",
              "</style>\n",
              "<table border=\"1\" class=\"dataframe\">\n",
              "  <thead>\n",
              "    <tr style=\"text-align: right;\">\n",
              "      <th></th>\n",
              "      <th>0</th>\n",
              "    </tr>\n",
              "  </thead>\n",
              "  <tbody>\n",
              "    <tr>\n",
              "      <th>category</th>\n",
              "      <td>0</td>\n",
              "    </tr>\n",
              "    <tr>\n",
              "      <th>city</th>\n",
              "      <td>0</td>\n",
              "    </tr>\n",
              "    <tr>\n",
              "      <th>country</th>\n",
              "      <td>0</td>\n",
              "    </tr>\n",
              "    <tr>\n",
              "      <th>customer_ID</th>\n",
              "      <td>0</td>\n",
              "    </tr>\n",
              "    <tr>\n",
              "      <th>customer_name</th>\n",
              "      <td>0</td>\n",
              "    </tr>\n",
              "    <tr>\n",
              "      <th>discount</th>\n",
              "      <td>0</td>\n",
              "    </tr>\n",
              "    <tr>\n",
              "      <th>market</th>\n",
              "      <td>0</td>\n",
              "    </tr>\n",
              "    <tr>\n",
              "      <th>unknown</th>\n",
              "      <td>0</td>\n",
              "    </tr>\n",
              "    <tr>\n",
              "      <th>order_date</th>\n",
              "      <td>0</td>\n",
              "    </tr>\n",
              "    <tr>\n",
              "      <th>order_id</th>\n",
              "      <td>0</td>\n",
              "    </tr>\n",
              "    <tr>\n",
              "      <th>order_priority</th>\n",
              "      <td>0</td>\n",
              "    </tr>\n",
              "    <tr>\n",
              "      <th>product_id</th>\n",
              "      <td>0</td>\n",
              "    </tr>\n",
              "    <tr>\n",
              "      <th>product_name</th>\n",
              "      <td>0</td>\n",
              "    </tr>\n",
              "    <tr>\n",
              "      <th>profit</th>\n",
              "      <td>0</td>\n",
              "    </tr>\n",
              "    <tr>\n",
              "      <th>quantity</th>\n",
              "      <td>0</td>\n",
              "    </tr>\n",
              "    <tr>\n",
              "      <th>region</th>\n",
              "      <td>0</td>\n",
              "    </tr>\n",
              "    <tr>\n",
              "      <th>row_id</th>\n",
              "      <td>0</td>\n",
              "    </tr>\n",
              "    <tr>\n",
              "      <th>sales</th>\n",
              "      <td>0</td>\n",
              "    </tr>\n",
              "    <tr>\n",
              "      <th>segment</th>\n",
              "      <td>0</td>\n",
              "    </tr>\n",
              "    <tr>\n",
              "      <th>ship_date</th>\n",
              "      <td>0</td>\n",
              "    </tr>\n",
              "    <tr>\n",
              "      <th>ship_mode</th>\n",
              "      <td>0</td>\n",
              "    </tr>\n",
              "    <tr>\n",
              "      <th>shipping_cost</th>\n",
              "      <td>0</td>\n",
              "    </tr>\n",
              "    <tr>\n",
              "      <th>state</th>\n",
              "      <td>0</td>\n",
              "    </tr>\n",
              "    <tr>\n",
              "      <th>sub_category</th>\n",
              "      <td>0</td>\n",
              "    </tr>\n",
              "    <tr>\n",
              "      <th>year</th>\n",
              "      <td>0</td>\n",
              "    </tr>\n",
              "    <tr>\n",
              "      <th>market2</th>\n",
              "      <td>0</td>\n",
              "    </tr>\n",
              "    <tr>\n",
              "      <th>weeknum</th>\n",
              "      <td>0</td>\n",
              "    </tr>\n",
              "  </tbody>\n",
              "</table>\n",
              "</div><br><label><b>dtype:</b> int64</label>"
            ]
          },
          "metadata": {},
          "execution_count": 3
        }
      ],
      "source": [
        "total_nulos = df.isnull().sum()\n",
        "total_nulos"
      ]
    },
    {
      "cell_type": "markdown",
      "source": [
        "**Ausência** de dados nulos."
      ],
      "metadata": {
        "id": "vnrdNzh3VFHN"
      }
    },
    {
      "cell_type": "markdown",
      "metadata": {
        "id": "p1SVBu1WDcFH"
      },
      "source": [
        "##Dados duplicados"
      ]
    },
    {
      "cell_type": "code",
      "execution_count": 4,
      "metadata": {
        "colab": {
          "base_uri": "https://localhost:8080/"
        },
        "id": "1A4mrDimE1tj",
        "outputId": "9624997e-a4eb-425d-cc05-6c3914cb9f4b"
      },
      "outputs": [
        {
          "output_type": "execute_result",
          "data": {
            "text/plain": [
              "0"
            ]
          },
          "metadata": {},
          "execution_count": 4
        }
      ],
      "source": [
        "total_duplicados = df.duplicated().sum()\n",
        "total_duplicados"
      ]
    },
    {
      "cell_type": "markdown",
      "source": [
        "**Ausência** de dados duplicados."
      ],
      "metadata": {
        "id": "woKika6jVLS8"
      }
    },
    {
      "cell_type": "markdown",
      "metadata": {
        "id": "yd-yqRN_D2Um"
      },
      "source": [
        "##Dados discrepantes"
      ]
    },
    {
      "cell_type": "code",
      "source": [
        "# Listando os valores únicos e a quantidade de repetições\n",
        "valores_unicos = {col: df[col].value_counts() for col in df.columns if col in ['category','city','country','customer_ID','customer_name','discount','market','unknown','order_date','order_id','order_priority','product_id','product_name','profit','quantity','region','row_id','sales','segment','ship_date','ship_mode','shipping_cost','state','sub_category','year','market2','weeknum']}\n",
        "\n",
        "# Apresentando os valores\n",
        "for col, unique_vals in valores_unicos.items():\n",
        "    print(f\"Unique values for column '{col}':\")\n",
        "    print(unique_vals)\n",
        "    print(\"-\" * 20) # Separador das variáveis"
      ],
      "metadata": {
        "colab": {
          "base_uri": "https://localhost:8080/"
        },
        "id": "U9_R4cP42o-k",
        "outputId": "0125a565-d57d-4991-8f02-1005e5ba86ff"
      },
      "execution_count": 40,
      "outputs": [
        {
          "output_type": "stream",
          "name": "stdout",
          "text": [
            "Unique values for column 'category':\n",
            "category\n",
            "Office Supplies    31273\n",
            "Technology         10141\n",
            "Furniture           9876\n",
            "Name: count, dtype: int64\n",
            "--------------------\n",
            "Unique values for column 'city':\n",
            "city\n",
            "New York City            915\n",
            "Los Angeles              747\n",
            "Philadelphia             537\n",
            "San Francisco            510\n",
            "Santo Domingo            443\n",
            "                        ... \n",
            "Hadera                     1\n",
            "Morley                     1\n",
            "Villeneuve-la-Garenne      1\n",
            "Torremolinos               1\n",
            "Redwood City               1\n",
            "Name: count, Length: 3636, dtype: int64\n",
            "--------------------\n",
            "Unique values for column 'country':\n",
            "country\n",
            "United States    9994\n",
            "Australia        2837\n",
            "France           2827\n",
            "Mexico           2644\n",
            "Germany          2065\n",
            "                 ... \n",
            "South Sudan         2\n",
            "Chad                2\n",
            "Swaziland           2\n",
            "Eritrea             2\n",
            "Bahrain             2\n",
            "Name: count, Length: 147, dtype: int64\n",
            "--------------------\n",
            "Unique values for column 'customer_ID':\n",
            "customer_ID\n",
            "JG-158051    40\n",
            "WB-218504    37\n",
            "BC-111252    37\n",
            "AF-108701    36\n",
            "JG-158052    35\n",
            "             ..\n",
            "DK-33752      1\n",
            "AA-3752       1\n",
            "TG-113102     1\n",
            "TB-115951     1\n",
            "AO-108104     1\n",
            "Name: count, Length: 4873, dtype: int64\n",
            "--------------------\n",
            "Unique values for column 'customer_name':\n",
            "customer_name\n",
            "Muhammed Yedwab    108\n",
            "Steven Ward        106\n",
            "Gary Hwang         102\n",
            "Bill Eplett        102\n",
            "Patrick O'Brill    102\n",
            "                  ... \n",
            "Emily Burns         35\n",
            "David Bremer        34\n",
            "Nicole Brennan      31\n",
            "Darren Budd         31\n",
            "Michael Oakman      29\n",
            "Name: count, Length: 795, dtype: int64\n",
            "--------------------\n",
            "Unique values for column 'discount':\n",
            "discount\n",
            "0.00    29470\n",
            "0.20     5039\n",
            "0.10     4068\n",
            "0.40     3281\n",
            "0.60     2029\n",
            "0.70     1786\n",
            "0.50     1633\n",
            "0.17      735\n",
            "0.47      725\n",
            "0.15      541\n",
            "0.27      388\n",
            "0.30      340\n",
            "0.45      327\n",
            "0.80      316\n",
            "0.25      198\n",
            "0.07      150\n",
            "0.35      122\n",
            "0.37       74\n",
            "0.32       27\n",
            "0.65       17\n",
            "0.57       12\n",
            "0.55       10\n",
            "0.85        2\n",
            "Name: count, dtype: int64\n",
            "--------------------\n",
            "Unique values for column 'market':\n",
            "market\n",
            "APAC      11002\n",
            "LATAM     10294\n",
            "EU        10000\n",
            "US         9994\n",
            "EMEA       5029\n",
            "Africa     4587\n",
            "Canada      384\n",
            "Name: count, dtype: int64\n",
            "--------------------\n",
            "Unique values for column 'unknown':\n",
            "unknown\n",
            "1    51290\n",
            "Name: count, dtype: int64\n",
            "--------------------\n",
            "Unique values for column 'order_date':\n",
            "order_date\n",
            "2014-06-18    135\n",
            "2014-11-18    127\n",
            "2014-09-03    126\n",
            "2014-11-20    118\n",
            "2014-12-29    116\n",
            "             ... \n",
            "2012-03-11      1\n",
            "2013-01-06      1\n",
            "2011-01-16      1\n",
            "2013-07-21      1\n",
            "2011-02-13      1\n",
            "Name: count, Length: 1430, dtype: int64\n",
            "--------------------\n",
            "Unique values for column 'order_id':\n",
            "order_id\n",
            "CA-2014-100111    14\n",
            "IN-2013-42311     13\n",
            "TO-2014-9950      13\n",
            "MX-2014-166541    13\n",
            "NI-2014-8880      13\n",
            "                  ..\n",
            "MX-2013-162761     1\n",
            "MX-2013-152219     1\n",
            "MX-2013-166359     1\n",
            "MX-2013-115350     1\n",
            "CA-2014-106964     1\n",
            "Name: count, Length: 25035, dtype: int64\n",
            "--------------------\n",
            "Unique values for column 'order_priority':\n",
            "order_priority\n",
            "Medium      29433\n",
            "High        15501\n",
            "Critical     3932\n",
            "Low          2424\n",
            "Name: count, dtype: int64\n",
            "--------------------\n",
            "Unique values for column 'product_id':\n",
            "product_id\n",
            "OFF-AR-10003651     35\n",
            "OFF-AR-10003829     31\n",
            "OFF-BI-10002799     30\n",
            "OFF-BI-10003708     30\n",
            "FUR-CH-10003354     28\n",
            "                    ..\n",
            "TEC-PH-10001146      1\n",
            "FUR-TA-10001289      1\n",
            "OFF-CUI-10001302     1\n",
            "OFF-AP-10002421      1\n",
            "TEC-MA-10001031      1\n",
            "Name: count, Length: 10292, dtype: int64\n",
            "--------------------\n",
            "Unique values for column 'product_name':\n",
            "product_name\n",
            "Staples                                                                      227\n",
            "Cardinal Index Tab, Clear                                                     92\n",
            "Eldon File Cart, Single Width                                                 90\n",
            "Rogers File Cart, Single Width                                                84\n",
            "Ibico Index Tab, Clear                                                        83\n",
            "                                                                            ... \n",
            "Zebra GK420t Direct Thermal/Thermal Transfer Printer                           1\n",
            "Xerox 1918                                                                     1\n",
            "Plantronics Single Ear Headset                                                 1\n",
            "Bush Saratoga Collection 5-Shelf Bookcase, Hanover Cherry, *Special Order      1\n",
            "Socket Bluetooth Cordless Hand Scanner (CHS)                                   1\n",
            "Name: count, Length: 3788, dtype: int64\n",
            "--------------------\n",
            "Unique values for column 'profit':\n",
            "profit\n",
            "0.0000      668\n",
            "4.3200       70\n",
            "3.9600       69\n",
            "7.9200       67\n",
            "2.6400       63\n",
            "           ... \n",
            "152.6760      1\n",
            "75.7280       1\n",
            "223.5480      1\n",
            "118.8320      1\n",
            "3.1584        1\n",
            "Name: count, Length: 24575, dtype: int64\n",
            "--------------------\n",
            "Unique values for column 'quantity':\n",
            "quantity\n",
            "2     12748\n",
            "3      9682\n",
            "1      8963\n",
            "4      6385\n",
            "5      4882\n",
            "6      3020\n",
            "7      2385\n",
            "8      1361\n",
            "9       987\n",
            "10      276\n",
            "14      186\n",
            "12      176\n",
            "11      156\n",
            "13       83\n",
            "Name: count, dtype: int64\n",
            "--------------------\n",
            "Unique values for column 'region':\n",
            "region\n",
            "Central           11117\n",
            "South              6645\n",
            "EMEA               5029\n",
            "North              4785\n",
            "Africa             4587\n",
            "Oceania            3487\n",
            "West               3203\n",
            "Southeast Asia     3129\n",
            "East               2848\n",
            "North Asia         2338\n",
            "Central Asia       2048\n",
            "Caribbean          1690\n",
            "Canada              384\n",
            "Name: count, dtype: int64\n",
            "--------------------\n",
            "Unique values for column 'row_id':\n",
            "row_id\n",
            "36624    1\n",
            "48632    1\n",
            "18753    1\n",
            "27853    1\n",
            "10279    1\n",
            "        ..\n",
            "21547    1\n",
            "26136    1\n",
            "28344    1\n",
            "30035    1\n",
            "37371    1\n",
            "Name: count, Length: 51290, dtype: int64\n",
            "--------------------\n",
            "Unique values for column 'sales':\n",
            "sales\n",
            "13      589\n",
            "11      550\n",
            "14      527\n",
            "19      523\n",
            "17      520\n",
            "       ... \n",
            "2611      1\n",
            "1929      1\n",
            "2940      1\n",
            "2574      1\n",
            "2357      1\n",
            "Name: count, Length: 2246, dtype: int64\n",
            "--------------------\n",
            "Unique values for column 'segment':\n",
            "segment\n",
            "Consumer       26518\n",
            "Corporate      15429\n",
            "Home Office     9343\n",
            "Name: count, dtype: int64\n",
            "--------------------\n",
            "Unique values for column 'ship_date':\n",
            "ship_date\n",
            "2014-11-22 0:00:00    130\n",
            "2014-09-07 0:00:00    115\n",
            "2014-11-17 0:00:00    101\n",
            "2014-12-07 0:00:00    101\n",
            "2014-11-29 0:00:00    100\n",
            "                     ... \n",
            "2011-04-14 0:00:00      3\n",
            "2015-01-07 0:00:00      3\n",
            "2011-01-06 0:00:00      2\n",
            "2011-01-05 0:00:00      2\n",
            "2011-01-03 0:00:00      2\n",
            "Name: count, Length: 1464, dtype: int64\n",
            "--------------------\n",
            "Unique values for column 'ship_mode':\n",
            "ship_mode\n",
            "Standard Class    30775\n",
            "Second Class      10309\n",
            "First Class        7505\n",
            "Same Day           2701\n",
            "Name: count, dtype: int64\n",
            "--------------------\n",
            "Unique values for column 'shipping_cost':\n",
            "shipping_cost\n",
            "1.360      66\n",
            "0.350      66\n",
            "0.710      63\n",
            "1.040      63\n",
            "0.640      63\n",
            "           ..\n",
            "28.570      1\n",
            "16.846      1\n",
            "154.610     1\n",
            "11.139      1\n",
            "173.000     1\n",
            "Name: count, Length: 16877, dtype: int64\n",
            "--------------------\n",
            "Unique values for column 'state':\n",
            "state\n",
            "California       2001\n",
            "England          1499\n",
            "New York         1128\n",
            "Texas             985\n",
            "Ile-de-France     981\n",
            "                 ... \n",
            "Yevrey              1\n",
            "Vrancea             1\n",
            "Stara Zagora        1\n",
            "Paysandú            1\n",
            "Wyoming             1\n",
            "Name: count, Length: 1094, dtype: int64\n",
            "--------------------\n",
            "Unique values for column 'sub_category':\n",
            "sub_category\n",
            "Binders        6152\n",
            "Storage        5059\n",
            "Art            4883\n",
            "Paper          3538\n",
            "Chairs         3434\n",
            "Phones         3357\n",
            "Furnishings    3170\n",
            "Accessories    3075\n",
            "Labels         2606\n",
            "Envelopes      2435\n",
            "Supplies       2425\n",
            "Fasteners      2420\n",
            "Bookcases      2411\n",
            "Copiers        2223\n",
            "Appliances     1755\n",
            "Machines       1486\n",
            "Tables          861\n",
            "Name: count, dtype: int64\n",
            "--------------------\n",
            "Unique values for column 'year':\n",
            "year\n",
            "2014    17531\n",
            "2013    13799\n",
            "2012    10962\n",
            "2011     8998\n",
            "Name: count, dtype: int64\n",
            "--------------------\n",
            "Unique values for column 'market2':\n",
            "market2\n",
            "APAC             11002\n",
            "North America    10378\n",
            "LATAM            10294\n",
            "EU               10000\n",
            "EMEA              5029\n",
            "Africa            4587\n",
            "Name: count, dtype: int64\n",
            "--------------------\n",
            "Unique values for column 'weeknum':\n",
            "weeknum\n",
            "47    1527\n",
            "46    1524\n",
            "45    1508\n",
            "52    1461\n",
            "38    1453\n",
            "48    1441\n",
            "49    1440\n",
            "39    1426\n",
            "51    1381\n",
            "50    1378\n",
            "36    1358\n",
            "37    1350\n",
            "24    1337\n",
            "26    1281\n",
            "25    1228\n",
            "33    1188\n",
            "34    1166\n",
            "23    1153\n",
            "32    1147\n",
            "35    1119\n",
            "40    1118\n",
            "44    1053\n",
            "43    1046\n",
            "42    1017\n",
            "41     940\n",
            "19     936\n",
            "22     891\n",
            "31     856\n",
            "27     837\n",
            "20     821\n",
            "21     812\n",
            "53     763\n",
            "12     745\n",
            "16     742\n",
            "28     728\n",
            "15     724\n",
            "30     720\n",
            "17     714\n",
            "14     711\n",
            "11     697\n",
            "18     692\n",
            "10     679\n",
            "29     664\n",
            "13     649\n",
            "3      604\n",
            "7      592\n",
            "5      568\n",
            "4      568\n",
            "2      550\n",
            "9      543\n",
            "8      536\n",
            "6      527\n",
            "1      381\n",
            "Name: count, dtype: int64\n",
            "--------------------\n"
          ]
        }
      ]
    },
    {
      "cell_type": "markdown",
      "source": [
        "O conjunto de dados apresenta diversas variáveis com diferentes características e variações de informações. A variável **category** possui *3 variações* de tipo *string*, enquanto **city** apresenta *3636 variações*, indicando uma ampla diversidade de cidades. A variável **country** tem *147 variações* e **customer_ID** abrange *4873 registros únicos*, com **customer_name** mostrando *795 variações*. A **discount** tem *23 possíveis* valores numéricos em formato *float*, e a variável **market** é representada por *7 categorias distintas*. O valor de **unknown** é *único (1)* e apresenta um tipo *inteiro*. Já as variáveis temporais **order_date** e **ship_date** têm, respectivamente, *1430* e *1464 variações*, ambas com *timestamp* de data apenas. O  **order_id** possui *25035 valores distintos*, enquanto **order_priority** tem *4 variações*. A **product_id** se refere a *10292 itens diferentes*, com **product_name** apresentando *3788 variações*. O valor de **profit** possui *24575 variações* em formato *float* e **quantity** tem *14 possíveis valores inteiros*. As variáveis **region**, **state** e **sub_category** são compostas por *13, 1094 e 17 categorias*, respectivamente. **Row_id** possui *51290 registros*, e as **sales** têm *2246 variações*. O **segment** é composto por *3 tipos diferentes*. **Ship_mode** tem *4 categorias*, e o **shipping_cost** apresenta *16877 valores numéricos*. Finalmente, as variáveis **market2**, **year** e **weeknum** possuem, respectivamente, *6, 4 e 53 variações*."
      ],
      "metadata": {
        "id": "3rxhCWQCfzAo"
      }
    },
    {
      "cell_type": "markdown",
      "metadata": {
        "id": "Ds85YxuEED7A"
      },
      "source": [
        "##Web scrapping"
      ]
    },
    {
      "cell_type": "code",
      "execution_count": 6,
      "metadata": {
        "id": "_jvcekYuOsTh",
        "colab": {
          "base_uri": "https://localhost:8080/"
        },
        "outputId": "4056eac7-6b85-45c7-8e35-b9fd59e4c135"
      },
      "outputs": [
        {
          "output_type": "stream",
          "name": "stdout",
          "text": [
            "Página baixada com sucesso!\n"
          ]
        }
      ],
      "source": [
        "# Página que será realizado o Web Scrapping\n",
        "url = \"https://en.wikipedia.org/wiki/List_of_supermarket_chains\"\n",
        "\n",
        "# Requesitando o link\n",
        "response = requests.get(url)\n",
        "\n",
        "# Verificando se a requisição foi bem sucedida\n",
        "if response.status_code == 200:\n",
        "    print(\"Página baixada com sucesso!\")\n",
        "else:\n",
        "    print(f\"Erro ao baixar a página. Código: {response.status_code}\")"
      ]
    },
    {
      "cell_type": "code",
      "source": [
        "# Processando o conteúdo da página\n",
        "soup = BeautifulSoup(response.content, 'html.parser')\n",
        "\n",
        "# Encontrando todas as tabelas da página\n",
        "tabelas = soup.find_all('table', class_='wikitable')\n",
        "print(f\"Total de tabelas encontradas: {len(tabelas)}\")"
      ],
      "metadata": {
        "colab": {
          "base_uri": "https://localhost:8080/"
        },
        "id": "IQ0bkg58_vcH",
        "outputId": "915cb407-b15e-4b3e-be7d-51ac4b1fdb97"
      },
      "execution_count": 7,
      "outputs": [
        {
          "output_type": "stream",
          "name": "stdout",
          "text": [
            "Total de tabelas encontradas: 1\n"
          ]
        }
      ]
    },
    {
      "cell_type": "code",
      "source": [
        "# Fazendo uma lista para armazenar os dados extraídos\n",
        "supermercados = []\n",
        "\n",
        "# Iterando as tabelas\n",
        "for tabela in tabelas:\n",
        "    linhas = tabela.find_all('tr') # Encontrando todas as linhas. TR = Table Row\n",
        "    for linha in linhas[1:]:  # Ignorando o cabeçalho\n",
        "        colunas = linha.find_all('td') # Encontrando as colunas. TD = Table Data\n",
        "        if len(colunas) >= 3: # Verificando se existem ao menos 3 colunas\n",
        "            company = colunas[0].get_text(strip=True)\n",
        "            headquarters = colunas[1].get_text(strip=True)\n",
        "            number_of_locations = colunas[4].get_text(strip=True)\n",
        "\n",
        "            # Armazenando os dados na lista\n",
        "            supermercados.append({\n",
        "                'company': company,\n",
        "                'headquarters': headquarters,\n",
        "                'number_of_locations': number_of_locations\n",
        "            })\n",
        "\n",
        "print(supermercados[:10])"
      ],
      "metadata": {
        "colab": {
          "base_uri": "https://localhost:8080/"
        },
        "id": "x8BCAOn--4i3",
        "outputId": "4cf3282c-9d55-4e5b-f66f-0f19b5f9801b"
      },
      "execution_count": 8,
      "outputs": [
        {
          "output_type": "stream",
          "name": "stdout",
          "text": [
            "[{'company': '7-Eleven', 'headquarters': 'JapanUnited States', 'number_of_locations': '84,500'}, {'company': 'Aeon', 'headquarters': 'Japan', 'number_of_locations': '20,008'}, {'company': 'Ahold Delhaize', 'headquarters': 'Netherlands', 'number_of_locations': '7,659'}, {'company': 'Aldi Nord', 'headquarters': 'Germany', 'number_of_locations': '5,435'}, {'company': 'Aldi Süd', 'headquarters': 'Germany', 'number_of_locations': '7,397'}, {'company': 'Aldi', 'headquarters': 'Germany(Süd and Nord)', 'number_of_locations': \"12,832 (13,419 if includingTrader Joe's)\"}, {'company': 'Edeka', 'headquarters': 'Germany', 'number_of_locations': '13,646'}, {'company': 'Extra', 'headquarters': 'Germany', 'number_of_locations': ''}, {'company': 'Tengelmann Group', 'headquarters': 'Germany', 'number_of_locations': '4,170'}, {'company': 'Minimal', 'headquarters': 'Germany', 'number_of_locations': '1,500'}]\n"
          ]
        }
      ]
    },
    {
      "cell_type": "markdown",
      "source": [
        "###Salvando os dados em um arquivo"
      ],
      "metadata": {
        "id": "nklWifAe_pW6"
      }
    },
    {
      "cell_type": "code",
      "source": [
        "# Criando um DataFrame e salvando em CSV\n",
        "df_supermercados = pd.DataFrame(supermercados)\n",
        "for col in df_supermercados.columns:\n",
        "    df_supermercados[col] = df_supermercados[col].str.replace(r'(?<=[a-z])(?=[A-Z])', ' ', regex=True)\n",
        "df_supermercados.to_csv('supermercados.csv', index=False, encoding='utf-8')\n",
        "print(df_supermercados.head())\n",
        "print(\"Dados salvos no arquivo supermercados.csv!\")"
      ],
      "metadata": {
        "id": "IgG6DfAj_-l-",
        "colab": {
          "base_uri": "https://localhost:8080/"
        },
        "outputId": "9b2d5f58-55f1-411b-d062-8cbee843f55c"
      },
      "execution_count": 9,
      "outputs": [
        {
          "output_type": "stream",
          "name": "stdout",
          "text": [
            "          company         headquarters number_of_locations\n",
            "0        7-Eleven  Japan United States              84,500\n",
            "1            Aeon                Japan              20,008\n",
            "2  Ahold Delhaize          Netherlands               7,659\n",
            "3       Aldi Nord              Germany               5,435\n",
            "4        Aldi Süd              Germany               7,397\n",
            "Dados salvos no arquivo supermercados.csv!\n"
          ]
        }
      ]
    },
    {
      "cell_type": "markdown",
      "metadata": {
        "id": "rNa22wOtETPx"
      },
      "source": [
        "##Tabelas de fatos e dimensões"
      ]
    },
    {
      "cell_type": "markdown",
      "source": [
        "###Tabela de dimensão"
      ],
      "metadata": {
        "id": "cSOuXMN6uSNg"
      }
    },
    {
      "cell_type": "markdown",
      "source": [
        "Dimensão do produto"
      ],
      "metadata": {
        "id": "qthC9-o7w4WJ"
      }
    },
    {
      "cell_type": "code",
      "source": [
        "# Criando a tabela de dimensão dos produtos\n",
        "dim_produto = df[['product_id', 'product_name', 'category', 'sub_category']].drop_duplicates()\n",
        "dim_produto.columns = ['id_produto', 'nome_produto', 'categoria', 'sub_categoria']\n",
        "print(dim_produto.head())\n",
        "print(dim_produto.tail())"
      ],
      "metadata": {
        "colab": {
          "base_uri": "https://localhost:8080/"
        },
        "id": "iQ5ZZR28uRe9",
        "outputId": "51f1973b-88b3-48c0-b9d3-869cd079f9c6"
      },
      "execution_count": 43,
      "outputs": [
        {
          "output_type": "stream",
          "name": "stdout",
          "text": [
            "        id_produto                                       nome_produto  \\\n",
            "0  OFF-PA-10002005                                          Xerox 225   \n",
            "1  OFF-PA-10002893          Wirebound Service Call Books, 5 1/2\" x 4\"   \n",
            "2  OFF-PA-10000659  Adams Phone Message Book, Professional, 400 Me...   \n",
            "3  OFF-PA-10001144                                         Xerox 1913   \n",
            "4  OFF-PA-10002105                                          Xerox 223   \n",
            "\n",
            "         categoria sub_categoria  \n",
            "0  Office Supplies         Paper  \n",
            "1  Office Supplies         Paper  \n",
            "2  Office Supplies         Paper  \n",
            "3  Office Supplies         Paper  \n",
            "4  Office Supplies         Paper  \n",
            "            id_produto                                       nome_produto  \\\n",
            "50952  TEC-PH-10001949                            Cisco SPA 501G IP Phone   \n",
            "51038  TEC-MA-10003246              Hewlett-Packard Deskjet D4360 Printer   \n",
            "51050  TEC-MA-10003329       Vtech AT&T CL2940 Corded Speakerphone, Black   \n",
            "51077  FUR-TA-10001691  Barricks Non-Folding Utility Table with Steel ...   \n",
            "51109  TEC-MA-10001031       Socket Bluetooth Cordless Hand Scanner (CHS)   \n",
            "\n",
            "        categoria sub_categoria  \n",
            "50952  Technology        Phones  \n",
            "51038  Technology      Machines  \n",
            "51050  Technology      Machines  \n",
            "51077   Furniture        Tables  \n",
            "51109  Technology      Machines  \n"
          ]
        }
      ]
    },
    {
      "cell_type": "markdown",
      "source": [
        "Dimensão do cliente"
      ],
      "metadata": {
        "id": "ybYfguX3w603"
      }
    },
    {
      "cell_type": "code",
      "source": [
        "# Criando tabela de dimensão dos clientes\n",
        "dim_cliente = df[['customer_ID', 'customer_name', 'segment']].drop_duplicates()\n",
        "dim_cliente.columns = ['id_cliente', 'nome_cliente', 'segmento']\n",
        "print(dim_cliente.head())\n",
        "print(dim_cliente.tail())"
      ],
      "metadata": {
        "colab": {
          "base_uri": "https://localhost:8080/"
        },
        "id": "NcpvHUi1xN47",
        "outputId": "8c7b71c8-e112-4218-edc2-475a175dc317"
      },
      "execution_count": 44,
      "outputs": [
        {
          "output_type": "stream",
          "name": "stdout",
          "text": [
            "  id_cliente      nome_cliente  segmento\n",
            "0  LS-172304  Lycoris Saunders  Consumer\n",
            "1  MV-174854     Mark Van Huff  Consumer\n",
            "2  CS-121304      Chad Sievert  Consumer\n",
            "4  AP-109154    Arthur Prichep  Consumer\n",
            "5  JF-154904      Jeremy Farry  Consumer\n",
            "      id_cliente       nome_cliente     segmento\n",
            "49147  RE-194054    Ricardo Emerson     Consumer\n",
            "49573  PH-187904  Patricia Hirasaki  Home Office\n",
            "49632  JR-157004     Jocasta Rupert     Consumer\n",
            "49857  CJ-118754       Carl Jackson    Corporate\n",
            "51080  AO-108104  Anthony O'Donnell    Corporate\n"
          ]
        }
      ]
    },
    {
      "cell_type": "markdown",
      "source": [
        "Dimensão das regiões"
      ],
      "metadata": {
        "id": "XHn-0gglxRKt"
      }
    },
    {
      "cell_type": "code",
      "source": [
        "# Criando tabela de dimensão das regiões\n",
        "dim_regiao = df[['state', 'city', 'region','order_id']].drop_duplicates()\n",
        "dim_regiao.columns = ['estado', 'cidade', 'regiao', 'id_ordem']\n",
        "print(dim_regiao.head())\n",
        "print(dim_regiao.tail())"
      ],
      "metadata": {
        "colab": {
          "base_uri": "https://localhost:8080/"
        },
        "id": "X6ExMyyDxTGI",
        "outputId": "48f02c24-8f47-4857-f48f-262ceb08b28d"
      },
      "execution_count": 45,
      "outputs": [
        {
          "output_type": "stream",
          "name": "stdout",
          "text": [
            "       estado       cidade regiao        id_ordem\n",
            "0  California  Los Angeles   West  CA-2011-130813\n",
            "1  California  Los Angeles   West  CA-2011-148614\n",
            "2  California  Los Angeles   West  CA-2011-118962\n",
            "4  California  Los Angeles   West  CA-2011-146969\n",
            "5  California  Los Angeles   West  CA-2011-117317\n",
            "           estado       cidade regiao        id_ordem\n",
            "51267  California  Los Angeles   West  CA-2014-151071\n",
            "51269  California  Los Angeles   West  CA-2014-150609\n",
            "51272  California  Los Angeles   West  CA-2014-137085\n",
            "51282  California  Los Angeles   West  US-2014-136707\n",
            "51287  California  Los Angeles   West  CA-2014-106964\n"
          ]
        }
      ]
    },
    {
      "cell_type": "markdown",
      "source": [
        "###Tabela de fato"
      ],
      "metadata": {
        "id": "kviNE7hP4hva"
      }
    },
    {
      "cell_type": "code",
      "source": [
        "# Criando tabela de fatos\n",
        "fato_vendas = df[['order_id','product_id', 'customer_ID', 'order_date', 'sales', 'quantity', 'discount', 'profit']]\n",
        "fato_vendas.columns = ['id_ordem', 'id_produto', 'id_cliente', 'data_ordem', 'vendas', 'quantidade', 'desconto', 'lucro']\n",
        "print(fato_vendas.head())\n",
        "print(fato_vendas.tail())"
      ],
      "metadata": {
        "colab": {
          "base_uri": "https://localhost:8080/"
        },
        "id": "L6xk1zJ74klI",
        "outputId": "f29d6e50-9fad-4133-9998-b46ccbe0844a"
      },
      "execution_count": 46,
      "outputs": [
        {
          "output_type": "stream",
          "name": "stdout",
          "text": [
            "         id_ordem       id_produto id_cliente data_ordem  vendas  quantidade  \\\n",
            "0  CA-2011-130813  OFF-PA-10002005  LS-172304 2011-01-07      19           3   \n",
            "1  CA-2011-148614  OFF-PA-10002893  MV-174854 2011-01-21      19           2   \n",
            "2  CA-2011-118962  OFF-PA-10000659  CS-121304 2011-08-05      21           3   \n",
            "3  CA-2011-118962  OFF-PA-10001144  CS-121304 2011-08-05     111           2   \n",
            "4  CA-2011-146969  OFF-PA-10002105  AP-109154 2011-09-29       6           1   \n",
            "\n",
            "   desconto    lucro  \n",
            "0       0.0   9.3312  \n",
            "1       0.0   9.2928  \n",
            "2       0.0   9.8418  \n",
            "3       0.0  53.2608  \n",
            "4       0.0   3.1104  \n",
            "             id_ordem       id_produto id_cliente data_ordem  vendas  \\\n",
            "51285  CA-2014-109701  OFF-BI-10000632  AM-103604 2014-12-03      69   \n",
            "51286  CA-2014-109701  OFF-BI-10004187  AM-103604 2014-12-03       9   \n",
            "51287  CA-2014-106964  OFF-BI-10000320  HR-147704 2014-12-18      12   \n",
            "51288  CA-2014-145219  OFF-BI-10001670  RM-196754 2014-12-25      90   \n",
            "51289  CA-2014-121398  OFF-BI-10001718  FH-143654 2014-12-26     154   \n",
            "\n",
            "       quantidade  desconto    lucro  \n",
            "51285           2       0.2  22.5732  \n",
            "51286           6       0.2   3.1584  \n",
            "51287           2       0.2   4.2804  \n",
            "51288           3       0.2  33.9300  \n",
            "51289           3       0.2  51.8238  \n"
          ]
        }
      ]
    },
    {
      "cell_type": "markdown",
      "source": [
        "##Relacionando as tabelas de fato e dimensão"
      ],
      "metadata": {
        "id": "9X7kPNu95g8U"
      }
    },
    {
      "cell_type": "code",
      "source": [
        "# Mesclando a tabela de fatos com a de dimensão de produto\n",
        "fato_vendas_completo = fato_vendas.merge(dim_produto, on='id_produto', how='left')\n",
        "\n",
        "# Mesclando a tabela de fatos com a de dimensão de clientes\n",
        "fato_vendas_completo = fato_vendas_completo.merge(dim_cliente, on='id_cliente', how='left')\n",
        "\n",
        "# Mesclando a tabela de fatos com a de dimensão de região\n",
        "fato_vendas_completo = fato_vendas_completo.merge(dim_regiao, on='id_ordem', how='left')\n",
        "\n",
        "print(fato_vendas_completo.head())\n",
        "print(fato_vendas_completo.tail())"
      ],
      "metadata": {
        "colab": {
          "base_uri": "https://localhost:8080/"
        },
        "id": "yR0Q7W5t5lrl",
        "outputId": "8079f6c5-b9a3-4b7e-dc00-055d5ab216d6"
      },
      "execution_count": 47,
      "outputs": [
        {
          "output_type": "stream",
          "name": "stdout",
          "text": [
            "         id_ordem       id_produto id_cliente data_ordem  vendas  quantidade  \\\n",
            "0  CA-2011-130813  OFF-PA-10002005  LS-172304 2011-01-07      19           3   \n",
            "1  CA-2011-148614  OFF-PA-10002893  MV-174854 2011-01-21      19           2   \n",
            "2  CA-2011-118962  OFF-PA-10000659  CS-121304 2011-08-05      21           3   \n",
            "3  CA-2011-118962  OFF-PA-10000659  CS-121304 2011-08-05      21           3   \n",
            "4  CA-2011-118962  OFF-PA-10001144  CS-121304 2011-08-05     111           2   \n",
            "\n",
            "   desconto    lucro                                       nome_produto  \\\n",
            "0       0.0   9.3312                                          Xerox 225   \n",
            "1       0.0   9.2928          Wirebound Service Call Books, 5 1/2\" x 4\"   \n",
            "2       0.0   9.8418  Adams Phone Message Book, Professional, 400 Me...   \n",
            "3       0.0   9.8418  TOPS Carbonless Receipt Book, Four 2-3/4 x 7-1...   \n",
            "4       0.0  53.2608                                         Xerox 1913   \n",
            "\n",
            "         categoria sub_categoria      nome_cliente  segmento      estado  \\\n",
            "0  Office Supplies         Paper  Lycoris Saunders  Consumer  California   \n",
            "1  Office Supplies         Paper     Mark Van Huff  Consumer  California   \n",
            "2  Office Supplies         Paper      Chad Sievert  Consumer  California   \n",
            "3  Office Supplies         Paper      Chad Sievert  Consumer  California   \n",
            "4  Office Supplies         Paper      Chad Sievert  Consumer  California   \n",
            "\n",
            "        cidade regiao  \n",
            "0  Los Angeles   West  \n",
            "1  Los Angeles   West  \n",
            "2  Los Angeles   West  \n",
            "3  Los Angeles   West  \n",
            "4  Los Angeles   West  \n",
            "             id_ordem       id_produto id_cliente data_ordem  vendas  \\\n",
            "59220  CA-2014-109701  OFF-BI-10000632  AM-103604 2014-12-03      69   \n",
            "59221  CA-2014-109701  OFF-BI-10004187  AM-103604 2014-12-03       9   \n",
            "59222  CA-2014-106964  OFF-BI-10000320  HR-147704 2014-12-18      12   \n",
            "59223  CA-2014-145219  OFF-BI-10001670  RM-196754 2014-12-25      90   \n",
            "59224  CA-2014-121398  OFF-BI-10001718  FH-143654 2014-12-26     154   \n",
            "\n",
            "       quantidade  desconto    lucro  \\\n",
            "59220           2       0.2  22.5732   \n",
            "59221           6       0.2   3.1584   \n",
            "59222           2       0.2   4.2804   \n",
            "59223           3       0.2  33.9300   \n",
            "59224           3       0.2  51.8238   \n",
            "\n",
            "                                    nome_produto        categoria  \\\n",
            "59220           Satellite Sectional Post Binders  Office Supplies   \n",
            "59221                                    Staples  Office Supplies   \n",
            "59222                  GBC Plastic Binding Combs  Office Supplies   \n",
            "59223               Vinyl Sectional Post Binders  Office Supplies   \n",
            "59224  GBC DocuBind P50 Personal Binding Machine  Office Supplies   \n",
            "\n",
            "      sub_categoria    nome_cliente     segmento      estado       cidade  \\\n",
            "59220       Binders  Alice McCarthy    Corporate  California  Los Angeles   \n",
            "59221       Binders  Alice McCarthy    Corporate  California  Los Angeles   \n",
            "59222       Binders  Hallie Redmond  Home Office  California  Los Angeles   \n",
            "59223       Binders   Robert Marley  Home Office  California  Los Angeles   \n",
            "59224       Binders    Fred Hopkins    Corporate  California  Los Angeles   \n",
            "\n",
            "      regiao  \n",
            "59220   West  \n",
            "59221   West  \n",
            "59222   West  \n",
            "59223   West  \n",
            "59224   West  \n"
          ]
        }
      ]
    },
    {
      "cell_type": "markdown",
      "source": [
        "###Salvando tabelas"
      ],
      "metadata": {
        "id": "gV7AG0Vt-ATK"
      }
    },
    {
      "cell_type": "code",
      "source": [
        "# Conectando ao banco de dados do SQLite\n",
        "engine = create_engine('sqlite:///superstore.db')\n",
        "\n",
        "# Salvando as tabelas de dimensão e fatos\n",
        "dim_produto.to_sql('dim_produto', con=engine, if_exists='replace', index=False)\n",
        "dim_cliente.to_sql('dim_cliente', con=engine, if_exists='replace', index=False)\n",
        "dim_regiao.to_sql('dim_regiao', con=engine, if_exists='replace', index=False)\n",
        "fato_vendas.to_sql('fato_vendas', con=engine, if_exists='replace', index=False)\n",
        "\n",
        "print(\"Tabelas salvas com sucesso no banco de dados!\")"
      ],
      "metadata": {
        "colab": {
          "base_uri": "https://localhost:8080/"
        },
        "id": "QX-_CrhO-EJU",
        "outputId": "06a8824e-499b-4722-c51f-d17f3cee9fcb"
      },
      "execution_count": 15,
      "outputs": [
        {
          "output_type": "stream",
          "name": "stdout",
          "text": [
            "Tabelas salvas com sucesso no banco de dados!\n"
          ]
        }
      ]
    },
    {
      "cell_type": "markdown",
      "source": [
        "##Relacionando os dados de web scrapping com a base de dados"
      ],
      "metadata": {
        "id": "wGgA5W6sBSSB"
      }
    },
    {
      "cell_type": "code",
      "source": [
        "# Selecionando as colunas relevantes para a dimensão\n",
        "df_dim = df[['state', 'city', 'country', 'order_id']].drop_duplicates()\n",
        "df_dim.columns = ['estado', 'cidade', 'pais', 'id_ordem']\n",
        "\n",
        "# Limpando e padronizando os dados\n",
        "df_dim['pais'] = df_dim['pais'].str.strip()\n",
        "df_supermercados['headquarters'] = df_supermercados['headquarters'].str.strip()\n",
        "\n",
        "# Unindo os dados das duas bases usando a chave \"pais\" e \"headquarters\"\n",
        "dim_regiao_juntas = df_dim.merge(\n",
        "    df_supermercados[['company', 'headquarters', 'number_of_locations']],\n",
        "    left_on='pais',\n",
        "    right_on='headquarters',\n",
        "    how='left'\n",
        ")\n",
        "\n",
        "# Renomeando colunas para manter clareza\n",
        "dim_regiao_juntas = dim_regiao_juntas.rename(columns={'company': 'empresa', 'number_of_locations': 'quantidade_de_locais','headquarters': 'cidade_matriz'})\n",
        "\n",
        "print(dim_regiao_juntas.head())\n",
        "print(dim_regiao_juntas.tail())"
      ],
      "metadata": {
        "id": "hWHGe00eBkO-",
        "colab": {
          "base_uri": "https://localhost:8080/"
        },
        "outputId": "6903c12e-c04e-42a3-bd8f-74f97a221f62"
      },
      "execution_count": 48,
      "outputs": [
        {
          "output_type": "stream",
          "name": "stdout",
          "text": [
            "       estado       cidade           pais        id_ordem     empresa  \\\n",
            "0  California  Los Angeles  United States  CA-2011-130813      Costco   \n",
            "1  California  Los Angeles  United States  CA-2011-130813  Dominick's   \n",
            "2  California  Los Angeles  United States  CA-2011-130813       H-E-B   \n",
            "3  California  Los Angeles  United States  CA-2011-130813  Super Valu   \n",
            "4  California  Los Angeles  United States  CA-2011-130813     Walmart   \n",
            "\n",
            "   cidade_matriz quantidade_de_locais  \n",
            "0  United States                  861  \n",
            "1  United States                  116  \n",
            "2  United States                 420+  \n",
            "3  United States               2,150+  \n",
            "4  United States               10,616  \n",
            "            estado       cidade           pais        id_ordem  \\\n",
            "595175  California  Los Angeles  United States  CA-2014-106964   \n",
            "595176  California  Los Angeles  United States  CA-2014-106964   \n",
            "595177  California  Los Angeles  United States  CA-2014-106964   \n",
            "595178  California  Los Angeles  United States  CA-2014-106964   \n",
            "595179  California  Los Angeles  United States  CA-2014-106964   \n",
            "\n",
            "                        empresa  cidade_matriz quantidade_de_locais  \n",
            "595175            Owen's Market  United States                       \n",
            "595176             Office Depot  United States                  960  \n",
            "595177  Scott's Food & Pharmacy  United States                   18  \n",
            "595178                 Circle K  United States              15,000+  \n",
            "595179            Allied Stores  United States                  226  \n"
          ]
        }
      ]
    },
    {
      "cell_type": "markdown",
      "metadata": {
        "id": "0IKcymDlEc2Q"
      },
      "source": [
        "##Análise exploratória"
      ]
    },
    {
      "cell_type": "markdown",
      "metadata": {
        "id": "mSmfuhskEkkp"
      },
      "source": [
        "###Visualização dos dados categóricos"
      ]
    },
    {
      "cell_type": "code",
      "source": [
        "df['segment'].value_counts().plot(kind='pie', autopct='%1.1f%%', colors=['#ff9999','#66b3ff','#99ff99'])\n",
        "plt.title('Proporção dos segmentos')\n",
        "plt.ylabel('')\n",
        "plt.show()"
      ],
      "metadata": {
        "colab": {
          "base_uri": "https://localhost:8080/",
          "height": 428
        },
        "id": "Ga0c3m2o9l9G",
        "outputId": "625445ac-9f0e-4f04-d168-f7bb03c6d939"
      },
      "execution_count": 17,
      "outputs": [
        {
          "output_type": "display_data",
          "data": {
            "text/plain": [
              "<Figure size 640x480 with 1 Axes>"
            ],
            "image/png": "[encoded data removed]"
          },
          "metadata": {}
        }
      ]
    },
    {
      "cell_type": "code",
      "source": [
        "sns.countplot(data=df, x='category', palette='Oranges')\n",
        "plt.title('Distribuição das categorias')\n",
        "plt.xlabel('')\n",
        "plt.ylabel('')\n",
        "plt.yticks([])\n",
        "plt.xticks(rotation=45)\n",
        "plt.show()"
      ],
      "metadata": {
        "colab": {
          "base_uri": "https://localhost:8080/",
          "height": 629
        },
        "id": "uDwJwZlp9drQ",
        "outputId": "feb55935-7eb9-4f7a-ed53-ef767ac2a46c"
      },
      "execution_count": 18,
      "outputs": [
        {
          "output_type": "stream",
          "name": "stderr",
          "text": [
            "<ipython-input-18-2f9667c8200b>:1: FutureWarning: \n",
            "\n",
            "Passing `palette` without assigning `hue` is deprecated and will be removed in v0.14.0. Assign the `x` variable to `hue` and set `legend=False` for the same effect.\n",
            "\n",
            "  sns.countplot(data=df, x='category', palette='Oranges')\n"
          ]
        },
        {
          "output_type": "display_data",
          "data": {
            "text/plain": [
              "<Figure size 640x480 with 1 Axes>"
            ],
            "image/png": "[encoded data removed]"
          },
          "metadata": {}
        }
      ]
    },
    {
      "cell_type": "code",
      "source": [
        "sns.countplot(data=df, x='sub_category', palette='Blues')\n",
        "plt.title('Distribuição das sub categorias')\n",
        "plt.xlabel('')\n",
        "plt.ylabel('')\n",
        "plt.yticks([])\n",
        "plt.xticks(rotation=45)\n",
        "plt.show()"
      ],
      "metadata": {
        "colab": {
          "base_uri": "https://localhost:8080/",
          "height": 612
        },
        "id": "l2UcH5xN-dKE",
        "outputId": "d2ad1f98-4764-42d9-f0da-03f64d8b9e46"
      },
      "execution_count": 19,
      "outputs": [
        {
          "output_type": "stream",
          "name": "stderr",
          "text": [
            "<ipython-input-19-d437d1a0ad90>:1: FutureWarning: \n",
            "\n",
            "Passing `palette` without assigning `hue` is deprecated and will be removed in v0.14.0. Assign the `x` variable to `hue` and set `legend=False` for the same effect.\n",
            "\n",
            "  sns.countplot(data=df, x='sub_category', palette='Blues')\n"
          ]
        },
        {
          "output_type": "display_data",
          "data": {
            "text/plain": [
              "<Figure size 640x480 with 1 Axes>"
            ],
            "image/png": "[encoded data removed]"
          },
          "metadata": {}
        }
      ]
    },
    {
      "cell_type": "code",
      "source": [
        "sns.countplot(data=df, x='ship_mode', palette='Greens')\n",
        "plt.title('Distribuição dos tipos de entrega')\n",
        "plt.xlabel('')\n",
        "plt.ylabel('')\n",
        "plt.yticks([])\n",
        "plt.xticks(rotation=45)\n",
        "plt.show()"
      ],
      "metadata": {
        "id": "U3Re4aBF_O15",
        "colab": {
          "base_uri": "https://localhost:8080/",
          "height": 629
        },
        "outputId": "6f74beb9-7b14-40a9-8c62-69e26609c414"
      },
      "execution_count": 20,
      "outputs": [
        {
          "output_type": "stream",
          "name": "stderr",
          "text": [
            "<ipython-input-20-03456c92af68>:1: FutureWarning: \n",
            "\n",
            "Passing `palette` without assigning `hue` is deprecated and will be removed in v0.14.0. Assign the `x` variable to `hue` and set `legend=False` for the same effect.\n",
            "\n",
            "  sns.countplot(data=df, x='ship_mode', palette='Greens')\n"
          ]
        },
        {
          "output_type": "display_data",
          "data": {
            "text/plain": [
              "<Figure size 640x480 with 1 Axes>"
            ],
            "image/png": "[encoded data removed]"
          },
          "metadata": {}
        }
      ]
    },
    {
      "cell_type": "code",
      "source": [
        "sns.countplot(data=df, x='region', palette='Reds')\n",
        "plt.title('Distribuição por regiões')\n",
        "plt.xlabel('')\n",
        "plt.ylabel('')\n",
        "plt.yticks([])\n",
        "plt.xticks(rotation=45)\n",
        "plt.show()"
      ],
      "metadata": {
        "colab": {
          "base_uri": "https://localhost:8080/",
          "height": 628
        },
        "id": "93RTg_hsAqHw",
        "outputId": "63760ba1-213d-4b0d-df2f-ebd751996a5c"
      },
      "execution_count": 21,
      "outputs": [
        {
          "output_type": "stream",
          "name": "stderr",
          "text": [
            "<ipython-input-21-3e7d7ed56558>:1: FutureWarning: \n",
            "\n",
            "Passing `palette` without assigning `hue` is deprecated and will be removed in v0.14.0. Assign the `x` variable to `hue` and set `legend=False` for the same effect.\n",
            "\n",
            "  sns.countplot(data=df, x='region', palette='Reds')\n"
          ]
        },
        {
          "output_type": "display_data",
          "data": {
            "text/plain": [
              "<Figure size 640x480 with 1 Axes>"
            ],
            "image/png": "[encoded data removed]"
          },
          "metadata": {}
        }
      ]
    },
    {
      "cell_type": "code",
      "source": [
        "pd.crosstab(df['segment'], df['order_priority']).plot(kind='bar', stacked=True, colormap='coolwarm')\n",
        "plt.title('Distribuição de segmentos por ordem de prioridade')\n",
        "plt.ylabel('')\n",
        "plt.xlabel('')\n",
        "plt.yticks([])\n",
        "plt.xticks([])\n",
        "plt.xticks(rotation=45)\n",
        "plt.legend(title='Ordem de Prioridade', loc='upper right')\n",
        "plt.show()\n"
      ],
      "metadata": {
        "colab": {
          "base_uri": "https://localhost:8080/",
          "height": 428
        },
        "id": "KP6_YYB9Byr-",
        "outputId": "c912c5dd-0bf7-412d-bcf6-0c792b75ad4e"
      },
      "execution_count": 22,
      "outputs": [
        {
          "output_type": "display_data",
          "data": {
            "text/plain": [
              "<Figure size 640x480 with 1 Axes>"
            ],
            "image/png": "[encoded data removed]"
          },
          "metadata": {}
        }
      ]
    },
    {
      "cell_type": "code",
      "source": [
        "sns.boxplot(x='category', y='sales', data=df, palette='Set3')\n",
        "plt.title('Distribuição de Vendas por Categoria')\n",
        "plt.ylabel('Vendas')\n",
        "plt.xlabel('Categorias')\n",
        "plt.yticks([])\n",
        "plt.xticks([])\n",
        "plt.xticks(rotation=45)\n",
        "plt.show()"
      ],
      "metadata": {
        "colab": {
          "base_uri": "https://localhost:8080/",
          "height": 555
        },
        "id": "-CHxmxQUFs1u",
        "outputId": "1aaf6403-73d6-46d8-b860-fff67a87dea7"
      },
      "execution_count": 23,
      "outputs": [
        {
          "output_type": "stream",
          "name": "stderr",
          "text": [
            "<ipython-input-23-a25fcb950d4d>:1: FutureWarning: \n",
            "\n",
            "Passing `palette` without assigning `hue` is deprecated and will be removed in v0.14.0. Assign the `x` variable to `hue` and set `legend=False` for the same effect.\n",
            "\n",
            "  sns.boxplot(x='category', y='sales', data=df, palette='Set3')\n"
          ]
        },
        {
          "output_type": "display_data",
          "data": {
            "text/plain": [
              "<Figure size 640x480 with 1 Axes>"
            ],
            "image/png": "[encoded data removed]"
          },
          "metadata": {}
        }
      ]
    },
    {
      "cell_type": "markdown",
      "metadata": {
        "id": "r7FthRttEnIv"
      },
      "source": [
        "###Medidas de tendência central"
      ]
    },
    {
      "cell_type": "code",
      "source": [
        "media = df['sales'].mean()\n",
        "mediana = df['sales'].median()\n",
        "moda = df['sales'].mode()[0]\n",
        "\n",
        "print(f'Média: {media}')\n",
        "print(f'Mediana: {mediana}')\n",
        "print(f'Moda: {moda}')"
      ],
      "metadata": {
        "colab": {
          "base_uri": "https://localhost:8080/"
        },
        "id": "PfwklTa2Gr5B",
        "outputId": "2a19c54b-fe23-42bc-8941-914fcc62542b"
      },
      "execution_count": 24,
      "outputs": [
        {
          "output_type": "stream",
          "name": "stdout",
          "text": [
            "Média: 246.49844024176252\n",
            "Mediana: 85.0\n",
            "Moda: 13\n"
          ]
        }
      ]
    },
    {
      "cell_type": "markdown",
      "metadata": {
        "id": "VYHwdrNAEvLy"
      },
      "source": [
        "###Medidas de dispersão"
      ]
    },
    {
      "cell_type": "code",
      "source": [
        "desvio_padrao = df['sales'].std()\n",
        "variancia = df['sales'].var()\n",
        "amplitude = df['sales'].max() - df['sales'].min()\n",
        "iqr = df['sales'].quantile(0.75) - df['sales'].quantile(0.25)\n",
        "cv = desvio_padrao / df['sales'].mean()\n",
        "\n",
        "print(f\"Desvio Padrão: {desvio_padrao}\")\n",
        "print(f\"Variância: {variancia}\")\n",
        "print(f\"Amplitude: {amplitude}\")\n",
        "print(f\"IQR: {iqr}\")\n",
        "print(f\"Coeficiente de Variação: {cv}\")"
      ],
      "metadata": {
        "colab": {
          "base_uri": "https://localhost:8080/"
        },
        "id": "pqeNKoS3HLde",
        "outputId": "ab60777f-0b7d-44a4-a710-8eaee243e22c"
      },
      "execution_count": 25,
      "outputs": [
        {
          "output_type": "stream",
          "name": "stdout",
          "text": [
            "Desvio Padrão: 487.5671746315864\n",
            "Variância: 237721.74977822785\n",
            "Amplitude: 22638\n",
            "IQR: 220.0\n",
            "Coeficiente de Variação: 1.9779726563518485\n"
          ]
        }
      ]
    },
    {
      "cell_type": "code",
      "source": [
        "sns.scatterplot(x=df['sales'], y=df['profit'])\n",
        "plt.ylabel('Vendas')\n",
        "plt.xlabel('Lucros')\n",
        "plt.yticks([])\n",
        "plt.xticks([])\n",
        "plt.title('Dispersão entre Vendas e Lucro')\n",
        "plt.show()"
      ],
      "metadata": {
        "colab": {
          "base_uri": "https://localhost:8080/",
          "height": 448
        },
        "id": "JHuV0NZCHq7F",
        "outputId": "063f3b7b-be4a-4374-f115-9a561858c508"
      },
      "execution_count": 26,
      "outputs": [
        {
          "output_type": "display_data",
          "data": {
            "text/plain": [
              "<Figure size 640x480 with 1 Axes>"
            ],
            "image/png": "[encoded data removed]"
          },
          "metadata": {}
        }
      ]
    },
    {
      "cell_type": "markdown",
      "metadata": {
        "id": "rz8Yajh3E1wv"
      },
      "source": [
        "###Comportamento dos dados ao longo do tempo"
      ]
    },
    {
      "cell_type": "code",
      "source": [
        "df['order_date'] = pd.to_datetime(df['order_date'])\n",
        "df.groupby(df['order_date'].dt.to_period('M'))['order_id'].count().plot(kind='line', figsize=(10,6), color='orange')\n",
        "plt.title('Quantidade de Pedidos por Mês')\n",
        "plt.xlabel('')\n",
        "plt.ylabel('Quantidade de Pedidos')\n",
        "plt.yticks([])\n",
        "plt.xticks(rotation=45)\n",
        "plt.show()"
      ],
      "metadata": {
        "colab": {
          "base_uri": "https://localhost:8080/",
          "height": 577
        },
        "id": "eh0frPsdJzx3",
        "outputId": "0c26cf33-45f5-4f5a-f076-15760094877f"
      },
      "execution_count": 34,
      "outputs": [
        {
          "output_type": "display_data",
          "data": {
            "text/plain": [
              "<Figure size 1000x600 with 1 Axes>"
            ],
            "image/png": "[encoded data removed]"
          },
          "metadata": {}
        }
      ]
    }
  ],
  "metadata": {
    "colab": {
      "collapsed_sections": [
        "qLxMf1thDZEj",
        "p1SVBu1WDcFH",
        "yd-yqRN_D2Um",
        "Ds85YxuEED7A",
        "rNa22wOtETPx",
        "cSOuXMN6uSNg",
        "kviNE7hP4hva",
        "9X7kPNu95g8U",
        "wGgA5W6sBSSB"
      ],
      "provenance": [],
      "authorship_tag": "ABX9TyNaVPC8cHUny9djz2Ei68OH",
      "include_colab_link": true
    },
    "kernelspec": {
      "display_name": "Python 3",
      "name": "python3"
    },
    "language_info": {
      "name": "python"
    }
  },
  "nbformat": 4,
  "nbformat_minor": 0
}